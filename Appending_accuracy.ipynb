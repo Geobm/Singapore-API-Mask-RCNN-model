{
  "nbformat": 4,
  "nbformat_minor": 0,
  "metadata": {
    "colab": {
      "name": "Appending accuracy.ipynb",
      "provenance": [],
      "collapsed_sections": []
    },
    "kernelspec": {
      "name": "python3",
      "display_name": "Python 3"
    },
    "accelerator": "TPU"
  },
  "cells": [
    {
      "cell_type": "code",
      "metadata": {
        "id": "hwPM1So0Amo3",
        "colab_type": "code",
        "colab": {
          "base_uri": "https://localhost:8080/",
          "height": 260
        },
        "outputId": "e9b9739e-9428-479d-ebd1-2d6686162738"
      },
      "source": [
        "import csv \n",
        "import pandas as pd\n",
        "from google.colab import files\n",
        "import matplotlib.pyplot as plt\n",
        "import numpy as np\n",
        "\n",
        "#uncomment to convert xslx to csv \n",
        "#data_excel = pd.read_excel(\"Wednesday_11-13-19.xslx\",\n",
        "#                 sep = ',',error_bad_lines=False)\n",
        "#data_excel.to_csv(\"Test.csv\", index = None, header=True)\n",
        "#df = pd.DataFrame(d.read_csv(\"Wednesday_11-13-19.csv\")) \n",
        "#files.download('Test.csv')\n",
        "\n",
        "df = pd.read_csv(\"Wednesday_11-13-19.csv\", sep = ',',error_bad_lines=False)\n",
        "\n",
        "#Use Series.isin for get rows matching mask by boolean indexing\n",
        "condition_fifty = df['Detection_Class'].isin([3,4]) & (df['Detection_Score'] > .50)\n",
        "condition_seventyfive = df['Detection_Class'].isin([3,4]) & (df['Detection_Score'] > .75)\n",
        "condition_free = df['Detection_Class'].isin([3,4])\n",
        "\n",
        "group = df['Object_id'].eq(0).cumsum()\n",
        "\n",
        "#Append column with sum of proportion bounding box with accuracy > .75 \n",
        "df['Sum_cars_trucks_accuracy_75'] = df[condition_seventyfive].groupby(group)['Proportion_bounding_box'].transform('sum')\n",
        "df['Sum_cars_trucks_accuracy_75'] = df.groupby(group)['Sum_cars_trucks_accuracy_75'].ffill()\n",
        "\n",
        "##Append column with sum of proportion bounding box with accuracy > .50 \n",
        "df['Sum_cars_trucks_accuracy_50'] = df[condition_fifty].groupby(group)['Proportion_bounding_box'].transform('sum')\n",
        "df['Sum_cars_trucks_accuracy_50'] = df.groupby(group)['Sum_cars_trucks_accuracy_50'].ffill()\n",
        "\n",
        "#Append column with sum of proportion bounding box without accuracy\n",
        "df['Sum_cars_trucks'] = df[condition_free].groupby(group)['Proportion_bounding_box'].transform('sum')\n",
        "df['Sum_cars_trucks'] = df.groupby(group)['Sum_cars_trucks'].ffill()\n",
        "\n",
        "print (df)\n",
        "\n",
        "df.to_csv('Wednesday_11-13-19.csv',index = False, header = True)\n",
        "df.reset_index(drop = True, inplace = True)\n",
        "files.download('Wednesday_11-13-19.csv')\n"
      ],
      "execution_count": null,
      "outputs": [
        {
          "output_type": "stream",
          "text": [
            "       Object_id  Image_id  ...  Sum_cars_trucks_accuracy_50  Sum_cars_trucks\n",
            "0              0         0  ...                     1.249207         6.062598\n",
            "1              1         0  ...                     1.249207         6.062598\n",
            "2              2         0  ...                     1.249207         6.062598\n",
            "3              3         0  ...                     1.249207         6.062598\n",
            "4              4         0  ...                     1.249207         6.062598\n",
            "...          ...       ...  ...                          ...              ...\n",
            "11116         40       143  ...                     0.280428         4.588228\n",
            "11117         41       143  ...                     0.280428         4.588228\n",
            "11118         42       143  ...                     0.280428         4.588228\n",
            "11119         43       143  ...                     0.280428         4.588228\n",
            "11120         44       143  ...                     0.280428         4.588228\n",
            "\n",
            "[11121 rows x 16 columns]\n"
          ],
          "name": "stdout"
        },
        {
          "output_type": "display_data",
          "data": {
            "application/javascript": [
              "\n",
              "    async function download(id, filename, size) {\n",
              "      if (!google.colab.kernel.accessAllowed) {\n",
              "        return;\n",
              "      }\n",
              "      const div = document.createElement('div');\n",
              "      const label = document.createElement('label');\n",
              "      label.textContent = `Downloading \"${filename}\": `;\n",
              "      div.appendChild(label);\n",
              "      const progress = document.createElement('progress');\n",
              "      progress.max = size;\n",
              "      div.appendChild(progress);\n",
              "      document.body.appendChild(div);\n",
              "\n",
              "      const buffers = [];\n",
              "      let downloaded = 0;\n",
              "\n",
              "      const channel = await google.colab.kernel.comms.open(id);\n",
              "      // Send a message to notify the kernel that we're ready.\n",
              "      channel.send({})\n",
              "\n",
              "      for await (const message of channel.messages) {\n",
              "        // Send a message to notify the kernel that we're ready.\n",
              "        channel.send({})\n",
              "        if (message.buffers) {\n",
              "          for (const buffer of message.buffers) {\n",
              "            buffers.push(buffer);\n",
              "            downloaded += buffer.byteLength;\n",
              "            progress.value = downloaded;\n",
              "          }\n",
              "        }\n",
              "      }\n",
              "      const blob = new Blob(buffers, {type: 'application/binary'});\n",
              "      const a = document.createElement('a');\n",
              "      a.href = window.URL.createObjectURL(blob);\n",
              "      a.download = filename;\n",
              "      div.appendChild(a);\n",
              "      a.click();\n",
              "      div.remove();\n",
              "    }\n",
              "  "
            ],
            "text/plain": [
              "<IPython.core.display.Javascript object>"
            ]
          },
          "metadata": {
            "tags": []
          }
        },
        {
          "output_type": "display_data",
          "data": {
            "application/javascript": [
              "download(\"download_183f6c62-a6f0-4319-8455-c93ef36448cb\", \"Wednesday_11-13-19.csv\", 2883941)"
            ],
            "text/plain": [
              "<IPython.core.display.Javascript object>"
            ]
          },
          "metadata": {
            "tags": []
          }
        }
      ]
    }
  ]
}